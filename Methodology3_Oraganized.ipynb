{
 "cells": [
  {
   "cell_type": "markdown",
   "id": "7e4129df",
   "metadata": {},
   "source": [
    "# Importing Necessary Libraries"
   ]
  },
  {
   "cell_type": "code",
   "execution_count": 61,
   "id": "77b84a0a",
   "metadata": {},
   "outputs": [],
   "source": [
    "import pandas as pd\n",
    "import numpy as np\n",
    "from sklearn.model_selection import train_test_split\n",
    "from sklearn.preprocessing import StandardScaler\n",
    "from sklearn.ensemble import RandomForestClassifier\n",
    "from sklearn.metrics import accuracy_score, classification_report, f1_score, confusion_matrix\n",
    "from sklearn.decomposition import PCA\n",
    "from sklearn.ensemble import IsolationForest\n",
    "from sklearn.metrics import precision_score, recall_score, roc_auc_score\n",
    "from cryptography.fernet import Fernet\n",
    "import matplotlib.pyplot as plt\n",
    "import time\n"
   ]
  },
  {
   "cell_type": "markdown",
   "id": "f0fb93fd",
   "metadata": {},
   "source": [
    "# Loading and Preprocessing Datasets\n",
    "\n"
   ]
  },
  {
   "cell_type": "code",
   "execution_count": 62,
   "id": "21e3c836",
   "metadata": {},
   "outputs": [],
   "source": [
    "# Load datasets\n",
    "embb_data = pd.read_csv('eMBB.csv')\n",
    "mmtc_data = pd.read_csv('mMTC.csv')\n",
    "urllc_data = pd.read_csv('URLLC.csv')\n",
    "\n",
    "# Handle missing values and encode features\n",
    "def preprocess_dataset(data):\n",
    "    numeric_data = data.select_dtypes(include=[np.number])\n",
    "    numeric_data.fillna(numeric_data.mean(), inplace=True)\n",
    "    non_numeric_data = data.select_dtypes(exclude=[np.number])\n",
    "    if not non_numeric_data.empty:\n",
    "        numeric_data = pd.concat(\n",
    "            [numeric_data, pd.get_dummies(non_numeric_data, drop_first=True)], axis=1\n",
    "        )\n",
    "    return numeric_data\n",
    "\n",
    "# Preprocess all datasets\n",
    "embb_data = preprocess_dataset(embb_data)\n",
    "mmtc_data = preprocess_dataset(mmtc_data)\n",
    "urllc_data = preprocess_dataset(urllc_data)\n",
    "    "
   ]
  },
  {
   "cell_type": "markdown",
   "id": "bdabdd4b",
   "metadata": {},
   "source": [
    "# Scaling Features and Separating Targets\n"
   ]
  },
  {
   "cell_type": "code",
   "execution_count": 63,
   "id": "586313bf",
   "metadata": {},
   "outputs": [
    {
     "name": "stdout",
     "output_type": "stream",
     "text": [
      "eMBB Features Shape: (5808, 46), Target Shape: (5808,)\n",
      "mMTC Features Shape: (4615, 52), Target Shape: (4615,)\n",
      "URLLC Features Shape: (4033, 69), Target Shape: (4033,)\n"
     ]
    },
    {
     "name": "stderr",
     "output_type": "stream",
     "text": [
      "D:\\GUC\\Semester 9\\Data Engineering\\Anaconda\\lib\\site-packages\\sklearn\\utils\\extmath.py:985: RuntimeWarning: invalid value encountered in true_divide\n",
      "  updated_mean = (last_sum + new_sum) / updated_sample_count\n",
      "D:\\GUC\\Semester 9\\Data Engineering\\Anaconda\\lib\\site-packages\\sklearn\\utils\\extmath.py:990: RuntimeWarning: invalid value encountered in true_divide\n",
      "  T = new_sum / new_sample_count\n",
      "D:\\GUC\\Semester 9\\Data Engineering\\Anaconda\\lib\\site-packages\\sklearn\\utils\\extmath.py:1020: RuntimeWarning: invalid value encountered in true_divide\n",
      "  new_unnormalized_variance -= correction ** 2 / new_sample_count\n",
      "D:\\GUC\\Semester 9\\Data Engineering\\Anaconda\\lib\\site-packages\\sklearn\\utils\\extmath.py:985: RuntimeWarning: invalid value encountered in true_divide\n",
      "  updated_mean = (last_sum + new_sum) / updated_sample_count\n",
      "D:\\GUC\\Semester 9\\Data Engineering\\Anaconda\\lib\\site-packages\\sklearn\\utils\\extmath.py:990: RuntimeWarning: invalid value encountered in true_divide\n",
      "  T = new_sum / new_sample_count\n",
      "D:\\GUC\\Semester 9\\Data Engineering\\Anaconda\\lib\\site-packages\\sklearn\\utils\\extmath.py:1020: RuntimeWarning: invalid value encountered in true_divide\n",
      "  new_unnormalized_variance -= correction ** 2 / new_sample_count\n"
     ]
    }
   ],
   "source": [
    "scaler = StandardScaler()\n",
    "\n",
    "def preprocess(data):\n",
    "    features = data.iloc[:, :-1]\n",
    "    target = data.iloc[:, -1]\n",
    "    features_scaled = scaler.fit_transform(features)\n",
    "    return features_scaled, target\n",
    "\n",
    "# Preprocess datasets\n",
    "embb_features, embb_target = preprocess(embb_data)\n",
    "mmtc_features, mmtc_target = preprocess(mmtc_data)\n",
    "urllc_features, urllc_target = preprocess(urllc_data)\n",
    "\n",
    "# Print shapes\n",
    "print(f\"eMBB Features Shape: {embb_features.shape}, Target Shape: {embb_target.shape}\")\n",
    "print(f\"mMTC Features Shape: {mmtc_features.shape}, Target Shape: {mmtc_target.shape}\")\n",
    "print(f\"URLLC Features Shape: {urllc_features.shape}, Target Shape: {urllc_target.shape}\")\n"
   ]
  },
  {
   "cell_type": "markdown",
   "id": "0dc7eb72",
   "metadata": {},
   "source": [
    "# Splitting and Cleaning Data\n",
    "\n"
   ]
  },
  {
   "cell_type": "code",
   "execution_count": 67,
   "id": "1c97a88e",
   "metadata": {},
   "outputs": [],
   "source": [
    "def split_data(features, target):\n",
    "    return train_test_split(features, target, test_size=0.2, random_state=42)\n",
    "\n",
    "embb_x_train, embb_x_test, embb_y_train, embb_y_test = split_data(embb_features, embb_target)\n",
    "mmtc_x_train, mmtc_x_test, mmtc_y_train, mmtc_y_test = split_data(mmtc_features, mmtc_target)\n",
    "urllc_x_train, urllc_x_test, urllc_y_train, urllc_y_test = split_data(urllc_features, urllc_target)\n",
    "\n",
    "# Function to clean the data\n",
    "def clean_data(features, target):\n",
    "    # Replace NaN and infinite values\n",
    "    features = np.nan_to_num(features, nan=0.0, posinf=0.0, neginf=0.0)\n",
    "    target = np.nan_to_num(target, nan=0.0, posinf=0.0, neginf=0.0)\n",
    "    return features, target\n",
    "\n",
    "# Clean each dataset\n",
    "embb_x_train, embb_y_train = clean_data(embb_x_train, embb_y_train)\n",
    "mmtc_x_train, mmtc_y_train = clean_data(mmtc_x_train, mmtc_y_train)\n",
    "urllc_x_train, urllc_y_train = clean_data(urllc_x_train, urllc_y_train)\n",
    "\n",
    "embb_x_test, embb_y_test = clean_data(embb_x_test, embb_y_test)\n",
    "mmtc_x_test, mmtc_y_test = clean_data(mmtc_x_test, mmtc_y_test)\n",
    "urllc_x_test, urllc_y_test = clean_data(urllc_x_test, urllc_y_test)\n"
   ]
  },
  {
   "cell_type": "markdown",
   "id": "25277366",
   "metadata": {},
   "source": [
    "# Training Random Forest Models\n"
   ]
  },
  {
   "cell_type": "code",
   "execution_count": 68,
   "id": "55c3ce74",
   "metadata": {},
   "outputs": [],
   "source": [
    "def train_model(x_train, y_train):\n",
    "    model = RandomForestClassifier(random_state=42)\n",
    "    model.fit(x_train, y_train)\n",
    "    return model\n",
    "\n",
    "# Train models for each slice type\n",
    "embb_model = train_model(embb_x_train, embb_y_train)\n",
    "mmtc_model = train_model(mmtc_x_train, mmtc_y_train)\n",
    "urllc_model = train_model(urllc_x_train, urllc_y_train)\n"
   ]
  },
  {
   "cell_type": "markdown",
   "id": "63c96c4f",
   "metadata": {},
   "source": [
    "# Making Predictions"
   ]
  },
  {
   "cell_type": "code",
   "execution_count": 69,
   "id": "9d62afdb",
   "metadata": {},
   "outputs": [],
   "source": [
    "# Predict resource needs\n",
    "def predict_resources(model, x_test):\n",
    "    return model.predict(x_test)\n",
    "\n",
    "embb_predictions = predict_resources(embb_model, embb_x_test)\n",
    "mmtc_predictions = predict_resources(mmtc_model, mmtc_x_test)\n",
    "urllc_predictions = predict_resources(urllc_model, urllc_x_test)\n"
   ]
  },
  {
   "cell_type": "markdown",
   "id": "dea747e7",
   "metadata": {},
   "source": [
    "# Encrypting and Decrypting Data"
   ]
  },
  {
   "cell_type": "code",
   "execution_count": 70,
   "id": "0202c11e",
   "metadata": {},
   "outputs": [
    {
     "name": "stdout",
     "output_type": "stream",
     "text": [
      "Decryption time: 1.3212 seconds\n"
     ]
    }
   ],
   "source": [
    "def encrypt_data(data, key):\n",
    "    f = Fernet(key)\n",
    "    return [f.encrypt(str(value).encode()) for value in data]\n",
    "\n",
    "def decrypt_data(data, key):\n",
    "    f = Fernet(key)\n",
    "    return [f.decrypt(value).decode() for value in data]\n",
    "\n",
    "key = Fernet.generate_key()\n",
    "\n",
    "# Encrypt and decrypt targets\n",
    "embb_y_train_encrypted = encrypt_data(embb_y_train, key)\n",
    "mmtc_y_train_encrypted = encrypt_data(mmtc_y_train, key)\n",
    "urllc_y_train_encrypted = encrypt_data(urllc_y_train, key)\n",
    "\n",
    "start_time = time.time()\n",
    "decrypt_data(embb_y_train_encrypted, key)\n",
    "encryption_time = time.time() - start_time\n",
    "print(f\"Decryption time: {encryption_time:.4f} seconds\")\n"
   ]
  },
  {
   "cell_type": "markdown",
   "id": "b6f84ccd",
   "metadata": {},
   "source": [
    "# Evaluating Models\n",
    "\n"
   ]
  },
  {
   "cell_type": "code",
   "execution_count": 71,
   "id": "8db4b2bc",
   "metadata": {},
   "outputs": [
    {
     "name": "stdout",
     "output_type": "stream",
     "text": [
      "eMBB Evaluation:\n",
      "Accuracy: 0.995697074010327\n",
      "F1 Score: 0.995696227754005\n",
      "Classification Report:\n",
      "               precision    recall  f1-score   support\n",
      "\n",
      "           0       0.99      1.00      1.00       605\n",
      "           1       1.00      0.99      1.00       557\n",
      "\n",
      "    accuracy                           1.00      1162\n",
      "   macro avg       1.00      1.00      1.00      1162\n",
      "weighted avg       1.00      1.00      1.00      1162\n",
      "\n",
      "\n",
      "mMTC Evaluation:\n",
      "Accuracy: 0.9956663055254604\n",
      "F1 Score: 0.9956674301580951\n",
      "Classification Report:\n",
      "               precision    recall  f1-score   support\n",
      "\n",
      "           0       1.00      0.99      1.00       517\n",
      "           1       0.99      1.00      1.00       406\n",
      "\n",
      "    accuracy                           1.00       923\n",
      "   macro avg       1.00      1.00      1.00       923\n",
      "weighted avg       1.00      1.00      1.00       923\n",
      "\n",
      "\n",
      "URLLC Evaluation:\n",
      "Accuracy: 1.0\n",
      "F1 Score: 1.0\n",
      "Classification Report:\n",
      "               precision    recall  f1-score   support\n",
      "\n",
      "           0       1.00      1.00      1.00       336\n",
      "           1       1.00      1.00      1.00       471\n",
      "\n",
      "    accuracy                           1.00       807\n",
      "   macro avg       1.00      1.00      1.00       807\n",
      "weighted avg       1.00      1.00      1.00       807\n",
      "\n"
     ]
    }
   ],
   "source": [
    "def evaluate_model(y_true, y_pred):\n",
    "    print(\"Accuracy:\", accuracy_score(y_true, y_pred))\n",
    "    print(\"F1 Score:\", f1_score(y_true, y_pred, average='weighted'))\n",
    "    print(\"Classification Report:\\n\", classification_report(y_true, y_pred))\n",
    "\n",
    "print(\"eMBB Evaluation:\")\n",
    "evaluate_model(embb_y_test, embb_predictions)\n",
    "\n",
    "print(\"\\nmMTC Evaluation:\")\n",
    "evaluate_model(mmtc_y_test, mmtc_predictions)\n",
    "\n",
    "print(\"\\nURLLC Evaluation:\")\n",
    "evaluate_model(urllc_y_test, urllc_predictions)\n"
   ]
  },
  {
   "cell_type": "markdown",
   "id": "a4da8044",
   "metadata": {},
   "source": [
    "# Simulating Real-World Scenarios\n"
   ]
  },
  {
   "cell_type": "code",
   "execution_count": 72,
   "id": "a6f4467e",
   "metadata": {},
   "outputs": [
    {
     "name": "stdout",
     "output_type": "stream",
     "text": [
      "\n",
      "Simulated eMBB Evaluation:\n",
      "Accuracy: 0.8691910499139415\n",
      "F1 Score: 0.8662985167281151\n",
      "Classification Report:\n",
      "               precision    recall  f1-score   support\n",
      "\n",
      "           0       0.80      1.00      0.89       605\n",
      "           1       1.00      0.73      0.84       557\n",
      "\n",
      "    accuracy                           0.87      1162\n",
      "   macro avg       0.90      0.86      0.87      1162\n",
      "weighted avg       0.89      0.87      0.87      1162\n",
      "\n",
      "\n",
      "Simulated mMTC Evaluation:\n",
      "Accuracy: 0.7594799566630552\n",
      "F1 Score: 0.7358869818098878\n",
      "Classification Report:\n",
      "               precision    recall  f1-score   support\n",
      "\n",
      "           0       0.70      1.00      0.82       517\n",
      "           1       0.99      0.46      0.62       406\n",
      "\n",
      "    accuracy                           0.76       923\n",
      "   macro avg       0.85      0.73      0.72       923\n",
      "weighted avg       0.83      0.76      0.74       923\n",
      "\n",
      "\n",
      "Simulated URLLC Evaluation:\n",
      "Accuracy: 0.9851301115241635\n",
      "F1 Score: 0.9851538988504822\n",
      "Classification Report:\n",
      "               precision    recall  f1-score   support\n",
      "\n",
      "           0       0.97      0.99      0.98       336\n",
      "           1       1.00      0.98      0.99       471\n",
      "\n",
      "    accuracy                           0.99       807\n",
      "   macro avg       0.98      0.99      0.98       807\n",
      "weighted avg       0.99      0.99      0.99       807\n",
      "\n"
     ]
    }
   ],
   "source": [
    "def simulate_real_world_behavior(features, variability=0.1):\n",
    "    noise = np.random.normal(loc=0.0, scale=variability, size=features.shape)\n",
    "    return features + noise\n",
    "\n",
    "simulated_embb_x_test = simulate_real_world_behavior(embb_x_test, variability=0.2)\n",
    "simulated_mmtc_x_test = simulate_real_world_behavior(mmtc_x_test, variability=0.15)\n",
    "simulated_urllc_x_test = simulate_real_world_behavior(urllc_x_test, variability=0.05)\n",
    "\n",
    "# Predictions on simulated data\n",
    "simulated_embb_predictions = predict_resources(embb_model, simulated_embb_x_test)\n",
    "simulated_mmtc_predictions = predict_resources(mmtc_model, simulated_mmtc_x_test)\n",
    "simulated_urllc_predictions = predict_resources(urllc_model, simulated_urllc_x_test)\n",
    "\n",
    "print(\"\\nSimulated eMBB Evaluation:\")\n",
    "evaluate_model(embb_y_test, simulated_embb_predictions)\n",
    "\n",
    "print(\"\\nSimulated mMTC Evaluation:\")\n",
    "evaluate_model(mmtc_y_test, simulated_mmtc_predictions)\n",
    "\n",
    "print(\"\\nSimulated URLLC Evaluation:\")\n",
    "evaluate_model(urllc_y_test, simulated_urllc_predictions)\n"
   ]
  },
  {
   "cell_type": "markdown",
   "id": "8472a4a5",
   "metadata": {},
   "source": [
    "# Detecting and Handling Anomalies\n",
    "\n"
   ]
  },
  {
   "cell_type": "code",
   "execution_count": 79,
   "id": "aeec1ee5",
   "metadata": {},
   "outputs": [
    {
     "name": "stdout",
     "output_type": "stream",
     "text": [
      "\n",
      "Anomalies Detected:\n",
      "eMBB Anomalies: 12\n",
      "mMTC Anomalies: 10\n",
      "URLLC Anomalies: 9\n",
      "\n",
      "Evaluations After Removing Anomalies:\n",
      "\n",
      "Cleaned eMBB Evaluation:\n",
      "Accuracy: 0.8678260869565217\n",
      "F1 Score: 0.8650329493638275\n",
      "Classification Report:\n",
      "               precision    recall  f1-score   support\n",
      "\n",
      "           0       0.80      1.00      0.89       593\n",
      "           1       1.00      0.73      0.84       557\n",
      "\n",
      "    accuracy                           0.87      1150\n",
      "   macro avg       0.90      0.86      0.86      1150\n",
      "weighted avg       0.89      0.87      0.87      1150\n",
      "\n",
      "\n",
      "Cleaned mMTC Evaluation:\n",
      "Accuracy: 0.7568455640744798\n",
      "F1 Score: 0.7333398719380247\n",
      "Classification Report:\n",
      "               precision    recall  f1-score   support\n",
      "\n",
      "           0       0.70      1.00      0.82       507\n",
      "           1       0.99      0.46      0.62       406\n",
      "\n",
      "    accuracy                           0.76       913\n",
      "   macro avg       0.85      0.73      0.72       913\n",
      "weighted avg       0.83      0.76      0.73       913\n",
      "\n",
      "\n",
      "Cleaned URLLC Evaluation:\n",
      "Accuracy: 0.9849624060150376\n",
      "F1 Score: 0.9849888667793422\n",
      "Classification Report:\n",
      "               precision    recall  f1-score   support\n",
      "\n",
      "           0       0.97      0.99      0.98       327\n",
      "           1       1.00      0.98      0.99       471\n",
      "\n",
      "    accuracy                           0.98       798\n",
      "   macro avg       0.98      0.99      0.98       798\n",
      "weighted avg       0.99      0.98      0.98       798\n",
      "\n"
     ]
    }
   ],
   "source": [
    "def detect_anomalies(features, contamination=0.01):\n",
    "    detector = IsolationForest(contamination=contamination, random_state=42)\n",
    "    anomaly_labels = detector.fit_predict(features)\n",
    "    return anomaly_labels\n",
    "\n",
    "# Detect anomalies in simulated datasets\n",
    "embb_anomalies = detect_anomalies(simulated_embb_x_test)\n",
    "mmtc_anomalies = detect_anomalies(simulated_mmtc_x_test)\n",
    "urllc_anomalies = detect_anomalies(simulated_urllc_x_test)\n",
    "\n",
    "# Count anomalies\n",
    "print(\"\\nAnomalies Detected:\")\n",
    "print(f\"eMBB Anomalies: {np.sum(embb_anomalies == -1)}\")\n",
    "print(f\"mMTC Anomalies: {np.sum(mmtc_anomalies == -1)}\")\n",
    "print(f\"URLLC Anomalies: {np.sum(urllc_anomalies == -1)}\")\n",
    "\n",
    "# Enhance predictions by excluding anomalies\n",
    "def remove_anomalies(features, labels, anomalies):\n",
    "    mask = anomalies == 1  # Keep only normal data\n",
    "    return features[mask], labels[mask]\n",
    "\n",
    "# Clean datasets\n",
    "clean_embb_x_test, clean_embb_y_test = remove_anomalies(simulated_embb_x_test, embb_y_test, embb_anomalies)\n",
    "clean_mmtc_x_test, clean_mmtc_y_test = remove_anomalies(simulated_mmtc_x_test, mmtc_y_test, mmtc_anomalies)\n",
    "clean_urllc_x_test, clean_urllc_y_test = remove_anomalies(simulated_urllc_x_test, urllc_y_test, urllc_anomalies)\n",
    "\n",
    "# Predict and evaluate on cleaned data\n",
    "print(\"\\nEvaluations After Removing Anomalies:\")\n",
    "print(\"\\nCleaned eMBB Evaluation:\")\n",
    "evaluate_model(clean_embb_y_test, predict_resources(embb_model, clean_embb_x_test))\n",
    "\n",
    "print(\"\\nCleaned mMTC Evaluation:\")\n",
    "evaluate_model(clean_mmtc_y_test, predict_resources(mmtc_model, clean_mmtc_x_test))\n",
    "\n",
    "print(\"\\nCleaned URLLC Evaluation:\")\n",
    "evaluate_model(clean_urllc_y_test, predict_resources(urllc_model, clean_urllc_x_test))"
   ]
  },
  {
   "cell_type": "markdown",
   "id": "7c855a8a",
   "metadata": {},
   "source": [
    "# Measuring Performance Metrics\n"
   ]
  },
  {
   "cell_type": "code",
   "execution_count": 80,
   "id": "9f5b3086",
   "metadata": {},
   "outputs": [
    {
     "name": "stdout",
     "output_type": "stream",
     "text": [
      "eMBB Performance: {'Throughput (Mbps)': 1262.0, 'Latency (ms)': 2.3771790808240887, 'Resource Utilization (%)': 100}\n",
      "mMTC Performance: {'Throughput (Mbps)': 511.5, 'Latency (ms)': 9.775171065493646, 'Resource Utilization (%)': 90.80000000000001}\n",
      "URLLC Performance: {'Throughput (Mbps)': 1814.0, 'Latency (ms)': 0.11025358324145534, 'Resource Utilization (%)': 100}\n"
     ]
    }
   ],
   "source": [
    "def measure_performance(predictions, slice_type):\n",
    "    \"\"\"\n",
    "    Simulates the measurement of throughput, latency, and resource utilization.\n",
    "    :param predictions: np.array, predicted resource allocations\n",
    "    :param slice_type: str, type of network slice ('eMBB', 'mMTC', 'URLLC')\n",
    "    :return: dict, performance metrics\n",
    "    \"\"\"\n",
    "    slice_metrics = {\n",
    "        'eMBB': {'base_throughput': 100, 'base_latency': 30, 'base_utilization': 70},\n",
    "        'mMTC': {'base_throughput': 50, 'base_latency': 100, 'base_utilization': 50},\n",
    "        'URLLC': {'base_throughput': 200, 'base_latency': 1, 'base_utilization': 90},\n",
    "    }\n",
    "    \n",
    "    metrics = slice_metrics[slice_type]\n",
    "    throughput = metrics['base_throughput'] * (1 + 0.01 * len(predictions))\n",
    "    latency = metrics['base_latency'] / (1 + 0.01 * len(predictions))\n",
    "    utilization = min(100, metrics['base_utilization'] + 0.1 * np.sum(predictions))\n",
    "    \n",
    "    return {\n",
    "        'Throughput (Mbps)': throughput,\n",
    "        'Latency (ms)': latency,\n",
    "        'Resource Utilization (%)': utilization\n",
    "    }\n",
    "\n",
    "# Example for all slices:\n",
    "embb_performance = measure_performance(embb_predictions, 'eMBB')\n",
    "mmtc_performance = measure_performance(mmtc_predictions, 'mMTC')\n",
    "urllc_performance = measure_performance(urllc_predictions, 'URLLC')\n",
    "\n",
    "print(f\"eMBB Performance: {embb_performance}\")\n",
    "print(f\"mMTC Performance: {mmtc_performance}\")\n",
    "print(f\"URLLC Performance: {urllc_performance}\")\n"
   ]
  },
  {
   "cell_type": "markdown",
   "id": "71a46232",
   "metadata": {},
   "source": [
    "# Measuring Security Metrics\n"
   ]
  },
  {
   "cell_type": "code",
   "execution_count": 81,
   "id": "3ab21b2b",
   "metadata": {},
   "outputs": [
    {
     "name": "stdout",
     "output_type": "stream",
     "text": [
      "eMBB Security: {'Security Incident Rate': 14, 'Response Time (s)': 1.1, 'Impact on Performance (%)': 0}\n",
      "mMTC Security: {'Security Incident Rate': 11, 'Response Time (s)': 2.0, 'Impact on Performance (%)': 0}\n",
      "URLLC Security: {'Security Incident Rate': 9, 'Response Time (s)': 0.19, 'Impact on Performance (%)': 10}\n"
     ]
    }
   ],
   "source": [
    "def simulate_security_metrics(predictions, slice_type, anomalies):\n",
    "    \"\"\"\n",
    "    Simulates security metrics for a given network slice.\n",
    "    :param predictions: np.array, predicted resource allocations\n",
    "    :param slice_type: str, type of network slice ('eMBB', 'mMTC', 'URLLC')\n",
    "    :param anomalies: np.array, anomaly detection labels (-1 for anomaly, 1 for normal)\n",
    "    :return: dict, security metrics\n",
    "    \"\"\"\n",
    "    base_response_time = {'eMBB': 0.5, 'mMTC': 1.0, 'URLLC': 0.1}\n",
    "    base_incident_rate = {'eMBB': 2, 'mMTC': 1, 'URLLC': 0}\n",
    "    \n",
    "    num_anomalies = np.sum(anomalies == -1)\n",
    "    response_time = base_response_time[slice_type] * (1 + 0.1 * num_anomalies)\n",
    "    incident_rate = base_incident_rate[slice_type] + num_anomalies\n",
    "    impact_on_performance = max(0, 100 - 10 * num_anomalies)\n",
    "    \n",
    "    return {\n",
    "        'Security Incident Rate': incident_rate,\n",
    "        'Response Time (s)': response_time,\n",
    "        'Impact on Performance (%)': impact_on_performance\n",
    "    }\n",
    "\n",
    "# Example for all slices:\n",
    "embb_security = simulate_security_metrics(embb_predictions, 'eMBB', embb_anomalies)\n",
    "mmtc_security = simulate_security_metrics(mmtc_predictions, 'mMTC', mmtc_anomalies)\n",
    "urllc_security = simulate_security_metrics(urllc_predictions, 'URLLC', urllc_anomalies)\n",
    "\n",
    "print(f\"eMBB Security: {embb_security}\")\n",
    "print(f\"mMTC Security: {mmtc_security}\")\n",
    "print(f\"URLLC Security: {urllc_security}\")\n"
   ]
  },
  {
   "cell_type": "markdown",
   "id": "500474fa",
   "metadata": {},
   "source": [
    "# Evaluating Resource Allocations\n"
   ]
  },
  {
   "cell_type": "code",
   "execution_count": 82,
   "id": "66a4ec15",
   "metadata": {},
   "outputs": [
    {
     "name": "stdout",
     "output_type": "stream",
     "text": [
      "eMBB Resources: {'CPU': 1104, 'Bandwidth': 1656, 'Storage': 0}\n",
      "mMTC Resources: {'CPU': 408, 'Bandwidth': 0, 'Storage': 816}\n",
      "URLLC Resources: {'CPU': 1413, 'Bandwidth': 471, 'Storage': 0}\n"
     ]
    }
   ],
   "source": [
    "def allocate_resources(predictions, slice_type):\n",
    "    resources = {\"CPU\": 0, \"Bandwidth\": 0, \"Storage\": 0}\n",
    "    for pred in predictions:\n",
    "        if slice_type == 'eMBB':\n",
    "            resources[\"CPU\"] += 2 * pred\n",
    "            resources[\"Bandwidth\"] += 3 * pred\n",
    "        elif slice_type == 'mMTC':\n",
    "            resources[\"CPU\"] += 1 * pred\n",
    "            resources[\"Storage\"] += 2 * pred\n",
    "        elif slice_type == 'URLLC':\n",
    "            resources[\"CPU\"] += 3 * pred\n",
    "            resources[\"Bandwidth\"] += 1 * pred\n",
    "    return resources\n",
    "\n",
    "# Example for all slices:\n",
    "print(\"eMBB Resources:\", allocate_resources(embb_predictions, 'eMBB'))\n",
    "print(\"mMTC Resources:\", allocate_resources(mmtc_predictions, 'mMTC'))\n",
    "print(\"URLLC Resources:\", allocate_resources(urllc_predictions, 'URLLC'))\n"
   ]
  },
  {
   "cell_type": "markdown",
   "id": "2d1adce2",
   "metadata": {},
   "source": [
    "# Visualizing Measurements\n"
   ]
  },
  {
   "cell_type": "code",
   "execution_count": 83,
   "id": "6648cb79",
   "metadata": {},
   "outputs": [
    {
     "data": {
      "image/png": "[encoded data removed]",
      "text/plain": [
       "<Figure size 720x432 with 1 Axes>"
      ]
     },
     "metadata": {
      "needs_background": "light"
     },
     "output_type": "display_data"
    },
    {
     "data": {
      "image/png": "[encoded data removed]",
      "text/plain": [
       "<Figure size 720x432 with 1 Axes>"
      ]
     },
     "metadata": {
      "needs_background": "light"
     },
     "output_type": "display_data"
    }
   ],
   "source": [
    "# Performance Visualization\n",
    "performance_data = pd.DataFrame([embb_performance, mmtc_performance, urllc_performance], index=['eMBB', 'mMTC', 'URLLC'])\n",
    "performance_data.plot(kind='bar', figsize=(10, 6), title=\"Performance Metrics\", rot=0)\n",
    "plt.ylabel(\"Values\")\n",
    "plt.show()\n",
    "\n",
    "# Security Visualization\n",
    "security_data = pd.DataFrame([embb_security, mmtc_security, urllc_security], index=['eMBB', 'mMTC', 'URLLC'])\n",
    "security_data.plot(kind='bar', figsize=(10, 6), title=\"Security Metrics\", rot=0)\n",
    "plt.ylabel(\"Values\")\n",
    "plt.show()\n"
   ]
  },
  {
   "cell_type": "code",
   "execution_count": null,
   "id": "6237baed",
   "metadata": {},
   "outputs": [],
   "source": []
  },
  {
   "cell_type": "code",
   "execution_count": null,
   "id": "767bdfcb",
   "metadata": {},
   "outputs": [],
   "source": []
  },
  {
   "cell_type": "code",
   "execution_count": null,
   "id": "35a3ac29",
   "metadata": {},
   "outputs": [],
   "source": []
  }
 ],
 "metadata": {
  "kernelspec": {
   "display_name": "Python 3 (ipykernel)",
   "language": "python",
   "name": "python3"
  },
  "language_info": {
   "codemirror_mode": {
    "name": "ipython",
    "version": 3
   },
   "file_extension": ".py",
   "mimetype": "text/x-python",
   "name": "python",
   "nbconvert_exporter": "python",
   "pygments_lexer": "ipython3",
   "version": "3.9.12"
  }
 },
 "nbformat": 4,
 "nbformat_minor": 5
}
